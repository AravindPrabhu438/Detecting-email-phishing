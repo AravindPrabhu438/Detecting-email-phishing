{
  "nbformat": 4,
  "nbformat_minor": 0,
  "metadata": {
    "colab": {
      "name": "Untitled51_(2).ipynb",
      "provenance": [],
      "collapsed_sections": []
    },
    "kernelspec": {
      "name": "python3",
      "display_name": "Python 3"
    },
    "language_info": {
      "name": "python"
    },
    "accelerator": "GPU"
  },
  "cells": [
    {
      "cell_type": "code",
      "metadata": {
        "id": "QnJgFAoEKCMJ"
      },
      "source": [
        "import tensorflow as tf\n",
        "import pandas as pd\n",
        "import numpy as np\n",
        "from sklearn.model_selection import train_test_split\n",
        "from keras.models import Sequential\n",
        "from keras.layers import Dense, Dropout, Activation\n",
        "from keras.layers import Embedding, LSTM\n",
        "from keras.layers import Conv1D, MaxPooling1D, Flatten\n",
        "from matplotlib import pyplot"
      ],
      "execution_count": null,
      "outputs": []
    },
    {
      "cell_type": "code",
      "metadata": {
        "id": "mwIjzCW2Klw9",
        "colab": {
          "base_uri": "https://localhost:8080/"
        },
        "outputId": "88c48265-bc37-4199-9013-6829bbe9fb46"
      },
      "source": [
        "data = pd.read_csv('emails.csv')\n",
        "data.shape"
      ],
      "execution_count": null,
      "outputs": [
        {
          "output_type": "execute_result",
          "data": {
            "text/plain": [
              "(5728, 2)"
            ]
          },
          "metadata": {
            "tags": []
          },
          "execution_count": 3
        }
      ]
    },
    {
      "cell_type": "code",
      "metadata": {
        "id": "mDa7omN3T2RG"
      },
      "source": [
        "def get_process(texts, tokenizer, train=True, max_seq_length=None):\n",
        "\n",
        "  sequences = tokenizer.texts_to_sequences(texts)\n",
        "  if train==True:\n",
        "    max_seq_length = np.max(list(map(lambda x: len(x), sequences)))\n",
        "\n",
        "  sequences = tf.keras.preprocessing.sequence.pad_sequences(sequences, maxlen=max_seq_length, padding='post')\n",
        "\n",
        "  return sequences"
      ],
      "execution_count": null,
      "outputs": []
    },
    {
      "cell_type": "code",
      "metadata": {
        "id": "FEtxwezoKrqs"
      },
      "source": [
        "def preprocess_inputs(df):\n",
        "  df = df.copy()\n",
        "  \n",
        "  x = df['text']\n",
        "  y = df['spam']\n",
        "\n",
        "  x_train, x_test, y_train, y_test = train_test_split(x,y, train_size=0.7, shuffle=True, random_state=1)\n",
        "\n",
        "  tokenizer = tf.keras.preprocessing.text.Tokenizer(num_words=30000, \n",
        "                                                    filters='!\"#$%&()*+,-./:;<=>?@[\\\\]^_`{|}~\\t\\n',\n",
        "                                                    lower=True)\n",
        "  tokenizer.fit_on_texts(x_train)\n",
        "\n",
        "  x_train = get_process(x_train, tokenizer, train=True)\n",
        "  x_test = get_process(x_test, tokenizer, train=False, max_seq_length=x_train.shape[1])\n",
        "\n",
        "  return x_train, x_test, y_train, y_test"
      ],
      "execution_count": null,
      "outputs": []
    },
    {
      "cell_type": "code",
      "metadata": {
        "colab": {
          "base_uri": "https://localhost:8080/"
        },
        "id": "WzmBa7_XRZE0",
        "outputId": "a75c5e4b-26c3-404a-f283-a9918f5d42e6"
      },
      "source": [
        "x_train, x_test, y_train, y_test = preprocess_inputs(data)\n",
        "x_train.shape\n"
      ],
      "execution_count": null,
      "outputs": [
        {
          "output_type": "execute_result",
          "data": {
            "text/plain": [
              "(4009, 7349)"
            ]
          },
          "metadata": {
            "tags": []
          },
          "execution_count": 6
        }
      ]
    },
    {
      "cell_type": "code",
      "metadata": {
        "id": "WkijgwTSh1DX"
      },
      "source": [
        "# max_seq_length = 7349\n",
        "# inputs = tf.keras.Input(shape=(max_seq_length))\n",
        "# embedding = tf.keras.layers.Embedding(input_dim=30000, output_dim=64)(inputs)\n"
      ],
      "execution_count": null,
      "outputs": []
    },
    {
      "cell_type": "code",
      "metadata": {
        "colab": {
          "base_uri": "https://localhost:8080/"
        },
        "id": "Qd6NHVh6XVHD",
        "outputId": "1c1c350c-e17e-499d-81cd-8a72e0cf3b44"
      },
      "source": [
        "model = Sequential()\n",
        "model.add(Embedding(input_dim=30000,\n",
        "                    output_dim=64,\n",
        "                    input_length=7349))\n",
        "model.add(Dropout(0.5))\n",
        "model.add(Conv1D(filters=32,kernel_size=3,padding='same',\n",
        "                 activation='relu'))\n",
        "model.add(MaxPooling1D())\n",
        "model.add(Conv1D(filters=16, kernel_size=3, padding='same',\n",
        "                 activation='relu'))\n",
        "model.add(MaxPooling1D())\n",
        "model.add(Flatten())\n",
        "model.add(Dense(64, activation='relu'))\n",
        "model.add(Dropout(0.5))\n",
        "model.add(Dense(1, activation='sigmoid'))\n",
        "model.compile(optimizer = 'adam',\n",
        "              loss = 'binary_crossentropy',\n",
        "              metrics = [['accuracy'], ['Precision'], ['Recall']])\n",
        "\n",
        "print(model.summary())"
      ],
      "execution_count": null,
      "outputs": [
        {
          "output_type": "stream",
          "text": [
            "Model: \"sequential_1\"\n",
            "_________________________________________________________________\n",
            "Layer (type)                 Output Shape              Param #   \n",
            "=================================================================\n",
            "embedding_1 (Embedding)      (None, 7349, 64)          1920000   \n",
            "_________________________________________________________________\n",
            "dropout_2 (Dropout)          (None, 7349, 64)          0         \n",
            "_________________________________________________________________\n",
            "conv1d_2 (Conv1D)            (None, 7349, 32)          6176      \n",
            "_________________________________________________________________\n",
            "max_pooling1d_2 (MaxPooling1 (None, 3674, 32)          0         \n",
            "_________________________________________________________________\n",
            "conv1d_3 (Conv1D)            (None, 3674, 16)          1552      \n",
            "_________________________________________________________________\n",
            "max_pooling1d_3 (MaxPooling1 (None, 1837, 16)          0         \n",
            "_________________________________________________________________\n",
            "flatten_1 (Flatten)          (None, 29392)             0         \n",
            "_________________________________________________________________\n",
            "dense_2 (Dense)              (None, 64)                1881152   \n",
            "_________________________________________________________________\n",
            "dropout_3 (Dropout)          (None, 64)                0         \n",
            "_________________________________________________________________\n",
            "dense_3 (Dense)              (None, 1)                 65        \n",
            "=================================================================\n",
            "Total params: 3,808,945\n",
            "Trainable params: 3,808,945\n",
            "Non-trainable params: 0\n",
            "_________________________________________________________________\n",
            "None\n"
          ],
          "name": "stdout"
        }
      ]
    },
    {
      "cell_type": "code",
      "metadata": {
        "colab": {
          "base_uri": "https://localhost:8080/"
        },
        "id": "P_aumSY3Z3vM",
        "outputId": "8e38a1dd-26fc-409d-fead-12b071ea5df1"
      },
      "source": [
        "history = model.fit(x_train, y_train,\n",
        "                    validation_split=0.2,\n",
        "                    batch_size=32,\n",
        "                    epochs=15,\n",
        "                    callbacks=[\n",
        "                               tf.keras.callbacks.EarlyStopping(\n",
        "                                   monitor='val_loss',\n",
        "                                   patience=3,\n",
        "                                   restore_best_weights=True\n",
        "                               )\n",
        "                    ])"
      ],
      "execution_count": null,
      "outputs": [
        {
          "output_type": "stream",
          "text": [
            "Epoch 1/15\n",
            "101/101 [==============================] - 7s 60ms/step - loss: 0.5811 - accuracy: 0.7458 - precision: 0.2835 - recall: 0.0300 - val_loss: 0.2189 - val_accuracy: 0.9090 - val_precision: 0.9915 - val_recall: 0.6170\n",
            "Epoch 2/15\n",
            "101/101 [==============================] - 6s 55ms/step - loss: 0.1258 - accuracy: 0.9654 - precision: 0.9284 - recall: 0.9270 - val_loss: 0.0402 - val_accuracy: 0.9863 - val_precision: 0.9784 - val_recall: 0.9628\n",
            "Epoch 3/15\n",
            "101/101 [==============================] - 6s 55ms/step - loss: 0.0116 - accuracy: 0.9975 - precision: 0.9911 - recall: 0.9978 - val_loss: 0.0463 - val_accuracy: 0.9875 - val_precision: 0.9890 - val_recall: 0.9574\n",
            "Epoch 4/15\n",
            "101/101 [==============================] - 6s 55ms/step - loss: 0.0042 - accuracy: 0.9997 - precision: 0.9987 - recall: 1.0000 - val_loss: 0.0558 - val_accuracy: 0.9875 - val_precision: 0.9890 - val_recall: 0.9574\n",
            "Epoch 5/15\n",
            "101/101 [==============================] - 6s 55ms/step - loss: 0.0034 - accuracy: 0.9991 - precision: 0.9991 - recall: 0.9974 - val_loss: 0.0653 - val_accuracy: 0.9838 - val_precision: 0.9534 - val_recall: 0.9787\n"
          ],
          "name": "stdout"
        }
      ]
    },
    {
      "cell_type": "code",
      "metadata": {
        "colab": {
          "base_uri": "https://localhost:8080/"
        },
        "id": "H-RwxODPbkfQ",
        "outputId": "b7f4f890-6f7d-4179-a6ee-a6244f3dbc23"
      },
      "source": [
        "results = model.evaluate(x_test, y_test, verbose=0)\n",
        "\n",
        "print(' Test loss: {:.4f}'.format(results[0]))\n",
        "print('Accuracy: {:.2f}%'.format(results[1]*100))\n"
      ],
      "execution_count": null,
      "outputs": [
        {
          "output_type": "stream",
          "text": [
            " Test loss: 0.0251\n",
            "Accuracy: 99.48%\n"
          ],
          "name": "stdout"
        }
      ]
    },
    {
      "cell_type": "code",
      "metadata": {
        "colab": {
          "base_uri": "https://localhost:8080/",
          "height": 181
        },
        "id": "tFcx1cvDs1Qc",
        "outputId": "cae680a1-910b-485c-855f-f954690f9e5d"
      },
      "source": [
        "pyplot.subplot(211)\n",
        "pyplot.title('Loss')\n",
        "pyplot.plot(history.history['loss'], label='train')\n",
        "pyplot.plot(history.history['val_loss'], label='validation')\n",
        "pyplot.legend()\n",
        "# plot accuracy during training\n"
      ],
      "execution_count": null,
      "outputs": [
        {
          "output_type": "execute_result",
          "data": {
            "text/plain": [
              "<matplotlib.legend.Legend at 0x7fbaaeeee5d0>"
            ]
          },
          "metadata": {
            "tags": []
          },
          "execution_count": 14
        },
        {
          "output_type": "display_data",
          "data": {
            "image/png": "[encoded data removed]",
            "text/plain": [
              "<Figure size 432x288 with 1 Axes>"
            ]
          },
          "metadata": {
            "tags": [],
            "needs_background": "light"
          }
        }
      ]
    },
    {
      "cell_type": "code",
      "metadata": {
        "colab": {
          "base_uri": "https://localhost:8080/",
          "height": 163
        },
        "id": "9RK6K-KUS4O4",
        "outputId": "f8e8c1e9-c57d-4e79-f998-334e5a13d25a"
      },
      "source": [
        "pyplot.subplot(212)\n",
        "pyplot.title('Accuracy')\n",
        "pyplot.plot(history.history['accuracy'], label='train')\n",
        "pyplot.plot(history.history['val_accuracy'], label='validation')\n",
        "pyplot.legend()\n",
        "pyplot.show()"
      ],
      "execution_count": null,
      "outputs": [
        {
          "output_type": "display_data",
          "data": {
            "image/png": "[encoded data removed]",
            "text/plain": [
              "<Figure size 432x288 with 1 Axes>"
            ]
          },
          "metadata": {
            "tags": [],
            "needs_background": "light"
          }
        }
      ]
    },
    {
      "cell_type": "code",
      "metadata": {
        "colab": {
          "base_uri": "https://localhost:8080/"
        },
        "id": "7fhQXB-vqaSE",
        "outputId": "fbe701d3-af18-4f71-edf5-43d9a82f44e2"
      },
      "source": [
        "from sklearn.metrics import confusion_matrix\n",
        "y_pred = model.predict(x_test)\n",
        "y_pred"
      ],
      "execution_count": null,
      "outputs": [
        {
          "output_type": "execute_result",
          "data": {
            "text/plain": [
              "array([[1.68719980e-17],\n",
              "       [7.10424683e-06],\n",
              "       [2.71036749e-10],\n",
              "       ...,\n",
              "       [9.86655784e-21],\n",
              "       [1.02001714e-11],\n",
              "       [2.84869589e-12]], dtype=float32)"
            ]
          },
          "metadata": {
            "tags": []
          },
          "execution_count": 17
        }
      ]
    },
    {
      "cell_type": "code",
      "metadata": {
        "colab": {
          "base_uri": "https://localhost:8080/"
        },
        "id": "nUpoSUJQqk8u",
        "outputId": "abc92ca6-de4e-4f8c-8399-231eeaebe0cb"
      },
      "source": [
        "y_pred = model.predict_classes(x_test)\n",
        "y_pred"
      ],
      "execution_count": null,
      "outputs": [
        {
          "output_type": "stream",
          "text": [
            "/usr/local/lib/python3.7/dist-packages/tensorflow/python/keras/engine/sequential.py:450: UserWarning: `model.predict_classes()` is deprecated and will be removed after 2021-01-01. Please use instead:* `np.argmax(model.predict(x), axis=-1)`,   if your model does multi-class classification   (e.g. if it uses a `softmax` last-layer activation).* `(model.predict(x) > 0.5).astype(\"int32\")`,   if your model does binary classification   (e.g. if it uses a `sigmoid` last-layer activation).\n",
            "  warnings.warn('`model.predict_classes()` is deprecated and '\n"
          ],
          "name": "stderr"
        },
        {
          "output_type": "execute_result",
          "data": {
            "text/plain": [
              "array([[0],\n",
              "       [0],\n",
              "       [0],\n",
              "       ...,\n",
              "       [0],\n",
              "       [0],\n",
              "       [0]], dtype=int32)"
            ]
          },
          "metadata": {
            "tags": []
          },
          "execution_count": 18
        }
      ]
    },
    {
      "cell_type": "code",
      "metadata": {
        "id": "8z8eRXa3qnWo"
      },
      "source": [
        "conf_matrix = confusion_matrix(y_test, y_pred)"
      ],
      "execution_count": null,
      "outputs": []
    },
    {
      "cell_type": "code",
      "metadata": {
        "colab": {
          "base_uri": "https://localhost:8080/"
        },
        "id": "gn6aBJUbqpAS",
        "outputId": "d062bfc3-506f-4757-b382-99162e8d957d"
      },
      "source": [
        "conf_matrix"
      ],
      "execution_count": null,
      "outputs": [
        {
          "output_type": "execute_result",
          "data": {
            "text/plain": [
              "array([[1306,    5],\n",
              "       [   4,  404]])"
            ]
          },
          "metadata": {
            "tags": []
          },
          "execution_count": 23
        }
      ]
    },
    {
      "cell_type": "code",
      "metadata": {
        "colab": {
          "base_uri": "https://localhost:8080/",
          "height": 283
        },
        "id": "D5jYSkhKqrNt",
        "outputId": "174da4b5-9b38-4812-d1b7-c08762340a23"
      },
      "source": [
        "import seaborn as sns\n",
        "sns.heatmap(conf_matrix/np.sum(conf_matrix), annot=True, \n",
        "            fmt='.2%', cmap='Blues')"
      ],
      "execution_count": null,
      "outputs": [
        {
          "output_type": "execute_result",
          "data": {
            "text/plain": [
              "<matplotlib.axes._subplots.AxesSubplot at 0x7fb9d015f3d0>"
            ]
          },
          "metadata": {
            "tags": []
          },
          "execution_count": 24
        },
        {
          "output_type": "display_data",
          "data": {
            "image/png": "[encoded data removed]",
            "text/plain": [
              "<Figure size 432x288 with 2 Axes>"
            ]
          },
          "metadata": {
            "tags": [],
            "needs_background": "light"
          }
        }
      ]
    }
  ]
}